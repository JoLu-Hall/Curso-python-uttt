{
 "cells": [
  {
   "cell_type": "markdown",
   "metadata": {},
   "source": [
    "# Bucles o Ciclos en Python\n",
    "## Bucles en el Codigo con While"
   ]
  },
  {
   "cell_type": "code",
   "execution_count": 3,
   "metadata": {},
   "outputs": [
    {
     "name": "stdout",
     "output_type": "stream",
     "text": [
      "Hola Python\n",
      "Hola Python\n",
      "Hola Python\n",
      "Hola Python\n",
      "Hola Python\n",
      "Hola Python\n",
      "Hola Python\n",
      "Hola Python\n",
      "Hola Python\n",
      "Hola Python\n"
     ]
    }
   ],
   "source": [
    "i=1\n",
    "\n",
    "while i<=10:\n",
    "    print(\"Hola Python\")\n",
    "    i = i + 1\n",
    "    "
   ]
  },
  {
   "cell_type": "code",
   "execution_count": 8,
   "metadata": {},
   "outputs": [
    {
     "name": "stdout",
     "output_type": "stream",
     "text": [
      "Numero: 1\n",
      "Numero: 2\n",
      "Numero: 3\n",
      "Numero: 4\n",
      "Numero: 5\n"
     ]
    }
   ],
   "source": [
    "\n",
    "num1 = int(input(\"Introduce el Primer Número: \"))\n",
    "i = 1\n",
    "\n",
    "while i<=num1:\n",
    "    print(f\"Numero: {i}\")\n",
    "    i = i + 1\n",
    "    "
   ]
  },
  {
   "cell_type": "markdown",
   "metadata": {},
   "source": [
    "## Realiza un Programa que Calcule N Calificaciones; debe de validar que las calificaciones sea mayor o igiual a dos."
   ]
  }
 ],
 "metadata": {
  "kernelspec": {
   "display_name": "CursoPythonUTTT",
   "language": "python",
   "name": "python3"
  },
  "language_info": {
   "codemirror_mode": {
    "name": "ipython",
    "version": 3
   },
   "file_extension": ".py",
   "mimetype": "text/x-python",
   "name": "python",
   "nbconvert_exporter": "python",
   "pygments_lexer": "ipython3",
   "version": "3.12.4"
  }
 },
 "nbformat": 4,
 "nbformat_minor": 2
}
