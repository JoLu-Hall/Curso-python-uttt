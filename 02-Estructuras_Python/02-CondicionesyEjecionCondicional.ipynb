{
 "cells": [
  {
   "cell_type": "markdown",
   "metadata": {},
   "source": [
    "## Condición y Ejecución Condicional.\n",
    "## Estructuras de Control Condicionles:\n",
    "\n",
    "1 Simples\n",
    "   \n",
    "2 Dobles   (Dos Opciones)\n",
    "  \n",
    "3 Multiples\n",
    "   "
   ]
  },
  {
   "cell_type": "markdown",
   "metadata": {},
   "source": [
    "## Ejercio 1 Condicional Simple (IF)"
   ]
  },
  {
   "cell_type": "code",
   "execution_count": 1,
   "metadata": {},
   "outputs": [
    {
     "name": "stdout",
     "output_type": "stream",
     "text": [
      "El numero: 10 Es mayor a:  20\n",
      "Fin del programa\n"
     ]
    }
   ],
   "source": [
    "num1 = 10\n",
    "num2 = 20\n",
    "\n",
    "if num1 < num2:\n",
    "    print(\"El numero:\",num1, \"Es mayor a: \", num2 )\n",
    "\n",
    "print(\"Fin del programa\")"
   ]
  },
  {
   "cell_type": "code",
   "execution_count": 6,
   "metadata": {},
   "outputs": [
    {
     "name": "stdout",
     "output_type": "stream",
     "text": [
      "El numero 5.6 es mayor que le Numro 3.0 \n"
     ]
    }
   ],
   "source": [
    "num1 = float(input(\"Introduce el Primer Número 1: \"))\n",
    "\n",
    "\n",
    "num2 = float(input(\"Introduce el valor de Numero 2: \"))\n",
    "\n",
    "\n",
    "if num1>num2:\n",
    "    print(f\"El numero {num1} es mayor que le Numro {num2} \") #Indica que Python vamos a usar un String"
   ]
  },
  {
   "cell_type": "code",
   "execution_count": 14,
   "metadata": {},
   "outputs": [
    {
     "name": "stdout",
     "output_type": "stream",
     "text": [
      " El Alumno  Luis obtuvo las siguinetes calificaciones: \n",
      " Calificaión 1 8.0 \n",
      " Calificaión 2 9.0 \n",
      " Calificaión 3 8.0 \n",
      " aprobo con 8.333333333333334 de calificación.\n",
      "Fin del programa\n"
     ]
    }
   ],
   "source": [
    "cal1 = float(input(\"Introduce la Califiación 1: \"))\n",
    "\n",
    "cal2 = float(input(\"Introduce la calificación  2: \"))\n",
    "\n",
    "cal3 = float(input(\"Introduce la calificación 3: \"))\n",
    "\n",
    "nomA = (input(\"Introduce el Nomvre del Alumno: \"))\n",
    "\n",
    "promedio = (cal1 + cal2 + cal3)/3\n",
    "\n",
    "if promedio >= 7.0:\n",
    "    print(f\" El Alumno  {nomA} obtuvo las siguinetes calificaciones: \\n Calificaión 1 {cal1} \\n Calificaión 2 {cal2} \\n Calificaión 3 {cal3} \\n aprobo con {promedio} de calificación.\")\n",
    "    \n",
    "print(\"Fin del programa\")\n"
   ]
  },
  {
   "cell_type": "markdown",
   "metadata": {},
   "source": [
    "## Ejercicio 2 (if-else)"
   ]
  },
  {
   "cell_type": "code",
   "execution_count": 18,
   "metadata": {},
   "outputs": [
    {
     "name": "stdout",
     "output_type": "stream",
     "text": [
      "El numero 10.0 es mayor que el numero5.0\n"
     ]
    }
   ],
   "source": [
    "num1 = float(input(\"Introduce el Primer Número 1: \"))\n",
    "num2 = float(input(\"Introduce el Primer Número 1: \"))\n",
    "\n",
    "if num1 > num2:\n",
    "    resultado = f\"El numero {num1} es mayor que el numero{num2}\"\n",
    "else:\n",
    "     resultado = f\"El numero {num2} es mayor que el numero{num1}\"\n",
    "print(resultado)"
   ]
  },
  {
   "cell_type": "markdown",
   "metadata": {},
   "source": [
    "## Problema: Saber si un numero es Par o Impar"
   ]
  },
  {
   "cell_type": "code",
   "execution_count": 30,
   "metadata": {},
   "outputs": [
    {
     "name": "stdout",
     "output_type": "stream",
     "text": [
      "El numero 2 es Par\n"
     ]
    }
   ],
   "source": [
    "num1 = int(input(\"Introduce un Numero: \"))\n",
    "\n",
    "if num1 %2 == 0:\n",
    "    resultado = f\"El numero {num1} es Par\"\n",
    "else:\n",
    "     resultado = f\"El numero {num1} es Impar\"\n",
    "print(resultado)"
   ]
  },
  {
   "cell_type": "markdown",
   "metadata": {},
   "source": [
    "## Estructura de Control Multiple"
   ]
  },
  {
   "cell_type": "code",
   "execution_count": 34,
   "metadata": {},
   "outputs": [
    {
     "name": "stdout",
     "output_type": "stream",
     "text": [
      "Eres de Primaria\n"
     ]
    }
   ],
   "source": [
    "grado = input(\"Intrduce tu Grado\")\n",
    "\n",
    "grado =grado.upper()\n",
    "\n",
    "if grado == \"PRIMARIA\":\n",
    "    print(\"Eres de Primaria\")\n",
    "elif grado == \"SECUNDARIA\":\n",
    "    print(\"Eres de Secundaria\")\n",
    "elif grado == \"PREPARATORIA\":\n",
    "    print(\"Eres de Prepearatori\")\n",
    "else:\n",
    "    print(\"No perteneces a un grado valido\")\n",
    "    "
   ]
  },
  {
   "cell_type": "code",
   "execution_count": 41,
   "metadata": {},
   "outputs": [
    {
     "name": "stdout",
     "output_type": "stream",
     "text": [
      "Opción no valida... \n",
      "  \n",
      " ¡¡vuleve a intentar!!\n"
     ]
    }
   ],
   "source": [
    "opcion = int (input(\"Selecciona una Opción: \\n 1) Suma. \\n 2) Resta. \\n 3) Multiplicación.\"))\n",
    "\n",
    "\n",
    "\n",
    "if opcion == 1:\n",
    "   num1 = int(input(\"Introduce el Primer Número 1: \"))\n",
    "   num2 = int (input(\"Introduce el Primer Número 2: \"))\n",
    "   resultado = num1 + num2\n",
    "   print(f\"El Resultado de la Ooperación {num2} + {num2} es: {resultado} \")\n",
    "   \n",
    "elif opcion == 2:\n",
    "     num1 = int(input(\"Introduce el Primer Número 1: \"))\n",
    "     num2 = int (input(\"Introduce el Primer Número 2: \"))\n",
    "     resultado = num1 - num2\n",
    "     print(f\"El Resultado de la Ooperación {num2} - {num2} es: {resultado} \")\n",
    "    \n",
    "elif opcion == 3:\n",
    "     num1 = int(input(\"Introduce el Primer Número 1: \"))\n",
    "     num2 = int (input(\"Introduce el Primer Número 2: \"))\n",
    "     resultado = num1 + num2\n",
    "     print(f\"El Resultado de la Ooperación {num2} * {num2} es: {resultado}\")\n",
    "    \n",
    "else:\n",
    "    \n",
    "   print(\"Opción no valida... \\n  \\n ¡¡vuleve a intentar!!\")"
   ]
  }
 ],
 "metadata": {
  "kernelspec": {
   "display_name": "CursoPythonUTTT",
   "language": "python",
   "name": "python3"
  },
  "language_info": {
   "codemirror_mode": {
    "name": "ipython",
    "version": 3
   },
   "file_extension": ".py",
   "mimetype": "text/x-python",
   "name": "python",
   "nbconvert_exporter": "python",
   "pygments_lexer": "ipython3",
   "version": "3.12.4"
  }
 },
 "nbformat": 4,
 "nbformat_minor": 2
}
